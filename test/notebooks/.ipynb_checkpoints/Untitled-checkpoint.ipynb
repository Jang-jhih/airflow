{
 "cells": [
  {
   "cell_type": "code",
   "execution_count": 61,
   "id": "5621c00e-8f05-4c96-a2dd-ebc0f1cdb9dc",
   "metadata": {
    "tags": []
   },
   "outputs": [],
   "source": [
    "# from textwrap import dedent\n",
    "from airflow import DAG \n",
    "from airflow.operators.python import PythonOperator\n",
    "\n",
    "from datetime import datetime, timedelta\n",
    "from finance.stock import (crawl_price,crawl_bargin,crawl_benchmark,crawl_pe)\n",
    "import time\n",
    "from finance.process import test_database, date_range\n",
    "import os\n",
    "from airflow.providers.postgres.hooks.postgres import PostgresHook\n",
    "from airflow.models import Variable\n",
    "from hdfs import InsecureClient\n",
    "import pyarrow.parquet as pq\n",
    "import pandas as pd\n",
    "import pyarrow as pa\n",
    "import tempfile\n",
    "import io"
   ]
  },
  {
   "cell_type": "code",
   "execution_count": 26,
   "id": "ded2835d-61d5-4c21-9921-f7871fc5cdcc",
   "metadata": {
    "tags": []
   },
   "outputs": [],
   "source": [
    "def read_parquet_from_hdfs(file_path, client):\n",
    "    with client.read(file_path, encoding='utf-8') as reader:\n",
    "        return pd.read_parquet(reader, engine='pyarrow')"
   ]
  },
  {
   "cell_type": "code",
   "execution_count": 27,
   "id": "3f941e99-0309-4c20-9cfe-6b05e938e5e3",
   "metadata": {
    "tags": []
   },
   "outputs": [
    {
     "name": "stdout",
     "output_type": "stream",
     "text": [
      "Crawlar price 2019-01-07\n"
     ]
    }
   ],
   "source": [
    "tablename='price'\n",
    "crawl_func =crawl_price\n",
    "datetime_object = datetime.strptime('20190107', '%Y%m%d')\n",
    "\n",
    "dates = date_range(datetime_object, datetime.now())\n",
    "date = dates[0]\n",
    "\n",
    "print(f'Crawlar {tablename} {date}')\n",
    "\n",
    "df = crawl_func(date)\n"
   ]
  },
  {
   "cell_type": "code",
   "execution_count": 70,
   "id": "56631da7-ff87-47c4-a4c7-48d407db6a1c",
   "metadata": {},
   "outputs": [
    {
     "name": "stdout",
     "output_type": "stream",
     "text": [
      "[\u001b[34m2023-05-07T09:57:27.441+0000\u001b[0m] {\u001b[34mclient.py:\u001b[0m192} INFO\u001b[0m - Instantiated <InsecureClient(url='http://namenode:50070')>.\u001b[0m\n"
     ]
    }
   ],
   "source": [
    "table = pa.Table.from_pandas(df)\n",
    "host = \"http://namenode:50070\"\n",
    "client = InsecureClient(host, user=\"hdfs\")"
   ]
  },
  {
   "cell_type": "code",
   "execution_count": 85,
   "id": "10b1b93f-ea83-407f-af49-232ae2cbaa1d",
   "metadata": {
    "tags": []
   },
   "outputs": [
    {
     "name": "stderr",
     "output_type": "stream",
     "text": [
      "                                                                                \r"
     ]
    }
   ],
   "source": [
    "import pandas as pd\n",
    "from pyspark.sql import SparkSession\n",
    "\n",
    "# 初始化 SparkSession\n",
    "spark = SparkSession.builder \\\n",
    "    .appName(\"Stock Price Data to HDFS\") \\\n",
    "    .getOrCreate()\n",
    "\n",
    "\n",
    "\n",
    "\n",
    "new_data_df = spark.createDataFrame(df)\n",
    "old_data_df = spark.read.parquet(hdfs_path)\n",
    "# 将 Spark DataFrame 保存到 HDFS 中的 Parquet 文件中\n",
    "# 请注意，您需要替换以下路径，以匹配您的 HDFS 配置和存储位置\n",
    "hdfs_path = \"hdfs://namenode:8020/user/yourusername/stock_prices\"\n",
    "\n",
    "\n",
    "\n",
    "\n",
    "\n",
    "spark_stock_prices_df.write.parquet(hdfs_path, mode=\"overwrite\")\n"
   ]
  },
  {
   "cell_type": "code",
   "execution_count": 82,
   "id": "6fab46d5-dbe4-490b-847f-d627c60b8305",
   "metadata": {
    "tags": []
   },
   "outputs": [
    {
     "name": "stdout",
     "output_type": "stream",
     "text": [
      "+-----------+-------------------+--------+--------+---------+------+------+------+------+------------+------------+\n",
      "|   stock_id|               date|成交股數|成交筆數| 成交金額|開盤價|最高價|最低價|收盤價|最後揭示買價|最後揭示賣價|\n",
      "+-----------+-------------------+--------+--------+---------+------+------+------+------+------------+------------+\n",
      "|  2516 新建|2019-01-07 00:00:00|  269686|      50|  1713869|  6.34|   6.4|  6.33|   6.4|        6.36|         6.4|\n",
      "|  2520 冠德|2019-01-07 00:00:00| 1164003|     506| 24847113|  21.6| 21.65| 21.05| 21.25|       21.25|        21.3|\n",
      "|  2524 京城|2019-01-07 00:00:00|  255675|     179|  6659085|  26.0| 26.55| 25.75|  26.2|        26.0|        26.2|\n",
      "|  2527 宏璟|2019-01-07 00:00:00|  132000|     102|  3042550|  23.2|  23.2| 22.95| 23.15|        23.1|       23.15|\n",
      "|  2528 皇普|2019-01-07 00:00:00|   24000|       9|   326050|  13.6|  13.6| 13.45| 13.45|        13.4|       13.55|\n",
      "|  2530 華建|2019-01-07 00:00:00|  157862|      60|  2487420| 15.85|  15.9|  15.7| 15.85|        15.8|       15.85|\n",
      "|  2534 宏盛|2019-01-07 00:00:00|  907561|     437| 23224554|  25.7|  25.7| 25.45|  25.7|       25.65|        25.7|\n",
      "|2535 達欣工|2019-01-07 00:00:00|  584178|     279| 11406339| 19.45|  19.6| 19.45|  19.5|        19.5|       19.55|\n",
      "|  2536 宏普|2019-01-07 00:00:00|   96000|      47|  1881750|  19.7|  19.7| 19.55| 19.65|        19.6|       19.65|\n",
      "|2537 聯上發|2019-01-07 00:00:00|  112509|      60|   677635|  6.05|  6.05|  6.01|  6.03|        6.02|        6.04|\n",
      "|  2538 基泰|2019-01-07 00:00:00|  611302|     311|  7576962| 12.45| 12.55|  12.2|  12.4|       12.35|        12.4|\n",
      "|2539 櫻花建|2019-01-07 00:00:00|   55560|      21|  1500426|  27.1|  27.1| 26.65|  27.1|        26.9|        27.1|\n",
      "|2540 愛山林|2019-01-07 00:00:00|    9094|      11|   246417|  27.5|  27.5| 26.75|  26.8|        26.8|        27.1|\n",
      "|2542 興富發|2019-01-07 00:00:00| 1730330|    1057| 78701406| 45.65| 45.65|  45.3|  45.6|       45.55|        45.6|\n",
      "|  2543 皇昌|2019-01-07 00:00:00|    2008|      10|    15686|  7.82|  7.82|  7.81|  7.81|        7.68|        7.78|\n",
      "|  2545 皇翔|2019-01-07 00:00:00|  101000|      57|  2583900|  25.6| 25.75|  25.4|  25.7|        25.5|        25.7|\n",
      "|  2546 根基|2019-01-07 00:00:00|  224266|     134|  6298472|  28.0|  28.3|  28.0| 28.05|        28.0|       28.05|\n",
      "|2547 日勝生|2019-01-07 00:00:00| 1022762|     541| 14198040|  14.0|  14.0|  13.8| 13.85|        13.8|       13.85|\n",
      "|  2548 華固|2019-01-07 00:00:00| 2656058|    1173|185208028|  69.0|  70.3|  69.0|  69.7|        69.7|        69.8|\n",
      "|  2597 潤弘|2019-01-07 00:00:00|  354349|     228| 17762883|  48.9|  51.3|  48.9|  50.6|        50.6|        50.8|\n",
      "+-----------+-------------------+--------+--------+---------+------+------+------+------+------------+------------+\n",
      "only showing top 20 rows\n",
      "\n"
     ]
    },
    {
     "name": "stderr",
     "output_type": "stream",
     "text": [
      "23/05/07 11:56:01 WARN SparkSession: Using an existing Spark session; only runtime SQL configurations will take effect.\n"
     ]
    }
   ],
   "source": [
    "from pyspark.sql import SparkSession\n",
    "\n",
    "# 初始化 SparkSession\n",
    "spark = SparkSession.builder \\\n",
    "    .appName(\"Read Stock Price Data from HDFS\") \\\n",
    "    .config(\"spark.some.config.option\", \"some-value\") \\\n",
    "    .getOrCreate()\n",
    "\n",
    "# 请注意，您需要替换以下路径，以匹配您的 HDFS 配置和存储位置\n",
    "hdfs_path = \"hdfs://namenode:8020/user/yourusername/stock_prices\"\n",
    "\n",
    "# 从 HDFS 中的 Parquet 文件中读取数据\n",
    "spark_stock_prices_df = spark.read.parquet(hdfs_path)\n",
    "\n",
    "# 显示 DataFrame 内容\n",
    "spark_stock_prices_df.show()\n"
   ]
  },
  {
   "cell_type": "code",
   "execution_count": 79,
   "id": "69d43b9f-fd96-4bdf-a5c7-5aa88fcc0999",
   "metadata": {
    "tags": []
   },
   "outputs": [
    {
     "data": {
      "text/plain": [
       "pyspark.sql.dataframe.DataFrame"
      ]
     },
     "execution_count": 79,
     "metadata": {},
     "output_type": "execute_result"
    }
   ],
   "source": [
    "type(spark_stock_prices_df)"
   ]
  },
  {
   "cell_type": "code",
   "execution_count": null,
   "id": "31db9d62-586e-48e8-a476-859c2f9a21da",
   "metadata": {},
   "outputs": [],
   "source": []
  }
 ],
 "metadata": {
  "kernelspec": {
   "display_name": "Python 3 (ipykernel)",
   "language": "python",
   "name": "python3"
  },
  "language_info": {
   "codemirror_mode": {
    "name": "ipython",
    "version": 3
   },
   "file_extension": ".py",
   "mimetype": "text/x-python",
   "name": "python",
   "nbconvert_exporter": "python",
   "pygments_lexer": "ipython3",
   "version": "3.10.10"
  }
 },
 "nbformat": 4,
 "nbformat_minor": 5
}
