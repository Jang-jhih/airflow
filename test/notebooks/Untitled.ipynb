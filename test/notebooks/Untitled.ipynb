{
 "cells": [
  {
   "cell_type": "code",
   "execution_count": 90,
   "id": "5621c00e-8f05-4c96-a2dd-ebc0f1cdb9dc",
   "metadata": {
    "tags": []
   },
   "outputs": [],
   "source": [
    "# from textwrap import dedent\n",
    "from airflow import DAG \n",
    "from airflow.operators.python import PythonOperator\n",
    "\n",
    "from datetime import datetime, timedelta\n",
    "from finance.stock import (crawl_price,crawl_bargin,crawl_benchmark,crawl_pe)\n",
    "import time\n",
    "from finance.process import test_database, date_range\n",
    "import os\n",
    "from airflow.providers.postgres.hooks.postgres import PostgresHook\n",
    "from airflow.models import Variable\n",
    "from hdfs import InsecureClient\n",
    "import pyarrow.parquet as pq\n",
    "import pandas as pd\n",
    "import pyarrow as pa\n",
    "import tempfile\n",
    "import io"
   ]
  },
  {
   "cell_type": "code",
   "execution_count": 114,
   "id": "3f941e99-0309-4c20-9cfe-6b05e938e5e3",
   "metadata": {
    "tags": []
   },
   "outputs": [
    {
     "name": "stdout",
     "output_type": "stream",
     "text": [
      "Crawlar price 2019-01-07\n"
     ]
    }
   ],
   "source": [
    "tablename='price'\n",
    "crawl_func =crawl_price\n",
    "datetime_object = datetime.strptime('20190107', '%Y%m%d')\n",
    "\n",
    "dates = date_range(datetime_object, datetime.now())\n",
    "date = dates[0]\n",
    "\n",
    "print(f'Crawlar {tablename} {date}')\n",
    "\n",
    "df = crawl_func(date)\n"
   ]
  },
  {
   "cell_type": "code",
   "execution_count": 141,
   "id": "76bc752f-2657-494a-b019-3cfad9de0372",
   "metadata": {
    "tags": []
   },
   "outputs": [],
   "source": [
    "    spark = SparkSession.builder.getOrCreate()\n",
    "    hdfs_path = f'hdfs://namenode:8020/datawarehouse/{tablename}'"
   ]
  },
  {
   "cell_type": "code",
   "execution_count": 161,
   "id": "429c34a7-1bbb-4695-a7de-9671fabf7405",
   "metadata": {
    "tags": []
   },
   "outputs": [],
   "source": [
    "new_data_df = df"
   ]
  },
  {
   "cell_type": "code",
   "execution_count": 150,
   "id": "7f04b468-a6c2-4d69-91a2-696d6218bb77",
   "metadata": {
    "tags": []
   },
   "outputs": [
    {
     "data": {
      "text/plain": [
       "DataFrame[stock_id: string, date: timestamp, 成交股數: bigint, 成交筆數: bigint, 成交金額: bigint, 開盤價: double, 最高價: double, 最低價: double, 收盤價: double, 最後揭示買價: double, 最後揭示賣價: double]"
      ]
     },
     "execution_count": 150,
     "metadata": {},
     "output_type": "execute_result"
    }
   ],
   "source": [
    "old_data_df = spark.read.parquet(hdfs_path)\n",
    "old_data_df"
   ]
  },
  {
   "cell_type": "code",
   "execution_count": 153,
   "id": "128857b1-2be9-49ba-83f7-d4c500d2f124",
   "metadata": {
    "tags": []
   },
   "outputs": [],
   "source": [
    "old_data_df_spark = old_data_df_spark.withColumn(\"date\", date_format(\"date\", \"yyyy-MM-dd\"))"
   ]
  },
  {
   "cell_type": "code",
   "execution_count": null,
   "id": "3fddbf02-5fc2-4a84-b184-959276e5fe4d",
   "metadata": {},
   "outputs": [],
   "source": [
    "old_data_df_spark = old_data_df_spark.withColumn(\"date\", date_format(\"date\", \"yyyy-MM-dd\")).toPandas()\n",
    "df = pd.concat([old_data_df, new_data_df], ignore_index=True)\n",
    "df = df.drop_duplicates()\n",
    "df = df.sort_values(by=['date'])\n",
    "df = spark.createDataFrame(df)\n",
    "df.write.parquet(hdfs_path, mode='overwrite')\n",
    "print(f'Update {tablename} to HDFS')"
   ]
  },
  {
   "cell_type": "code",
   "execution_count": 145,
   "id": "d691a375-da8d-4594-9684-9c52d0e3b12b",
   "metadata": {
    "tags": []
   },
   "outputs": [
    {
     "name": "stderr",
     "output_type": "stream",
     "text": [
      "                                                                                \r"
     ]
    },
    {
     "name": "stdout",
     "output_type": "stream",
     "text": [
      "Create price to HDFS\n"
     ]
    }
   ],
   "source": [
    "new_data_df = new_data_df.sort_values(by=['date'])\n",
    "new_data_df = spark.createDataFrame(new_data_df)\n",
    "new_data_df.write.parquet(hdfs_path, mode='overwrite')\n",
    "print(f'Create {tablename} to HDFS')"
   ]
  },
  {
   "cell_type": "code",
   "execution_count": 155,
   "id": "71e36074-5ed5-4ef5-aecc-cee74dc4bea6",
   "metadata": {
    "tags": []
   },
   "outputs": [],
   "source": [
    "old_data_df = spark.read.parquet(hdfs_path)\n",
    "old_data_df_spark = old_data_df_spark.withColumn(\"date\", date_format(\"date\", \"yyyy-MM-dd\"))\n",
    "old_data_df = old_data_df_spark.toPandas()\n"
   ]
  },
  {
   "cell_type": "code",
   "execution_count": 160,
   "id": "2c3b7326-86e2-4803-9d87-54f1a3e0eabd",
   "metadata": {
    "tags": []
   },
   "outputs": [
    {
     "data": {
      "text/plain": [
       "DataFrame[stock_id: string, date: timestamp, 成交股數: bigint, 成交筆數: bigint, 成交金額: bigint, 開盤價: double, 最高價: double, 最低價: double, 收盤價: double, 最後揭示買價: double, 最後揭示賣價: double]"
      ]
     },
     "execution_count": 160,
     "metadata": {},
     "output_type": "execute_result"
    }
   ],
   "source": [
    "new_data_df"
   ]
  },
  {
   "cell_type": "code",
   "execution_count": 162,
   "id": "55062eca-81ae-49f1-a885-8f112a971a09",
   "metadata": {
    "tags": []
   },
   "outputs": [],
   "source": [
    "df = pd.concat([old_data_df, new_data_df], ignore_index=True)\n"
   ]
  },
  {
   "cell_type": "code",
   "execution_count": null,
   "id": "42ef9a1e-886f-4d59-b2e9-1e5feeb7e42e",
   "metadata": {},
   "outputs": [],
   "source": [
    "df = df.drop_duplicates()\n",
    "df = df.sort_values(by=['date'])\n",
    "df = spark.createDataFrame(df)\n",
    "df.write.parquet(hdfs_path, mode='overwrite')\n",
    "print(f'Update {tablename} to HDFS')"
   ]
  }
 ],
 "metadata": {
  "kernelspec": {
   "display_name": "Python 3 (ipykernel)",
   "language": "python",
   "name": "python3"
  },
  "language_info": {
   "codemirror_mode": {
    "name": "ipython",
    "version": 3
   },
   "file_extension": ".py",
   "mimetype": "text/x-python",
   "name": "python",
   "nbconvert_exporter": "python",
   "pygments_lexer": "ipython3",
   "version": "3.10.10"
  }
 },
 "nbformat": 4,
 "nbformat_minor": 5
}
